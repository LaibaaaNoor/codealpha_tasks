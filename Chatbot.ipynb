{
 "cells": [
  {
   "cell_type": "code",
   "execution_count": 3,
   "metadata": {},
   "outputs": [
    {
     "name": "stdout",
     "output_type": "stream",
     "text": [
      "Chatbot: Hi! How can I assist you today?\n"
     ]
    },
    {
     "name": "stdout",
     "output_type": "stream",
     "text": [
      "Chatbot: sure,how can i assist you?\n",
      "Chatbot: I am good, thank you! How can I help you today?\n",
      "Chatbot: Have a great day!\n"
     ]
    }
   ],
   "source": [
    "import re  # Import the regular expression module for pattern matching\n",
    "import random  # Import the random module for selecting random responses\n",
    "\n",
    "class SimpleChatbot:\n",
    "    def __init__(self):\n",
    "        # Define a list of tuples where each tuple contains a regex pattern and a list of possible responses\n",
    "        self.patterns_responses = [\n",
    "            (r'hi|hello|hey', ['Hello!', 'Hi there!', 'Hey!']),\n",
    "            (r'how are you?', ['I am good, thank you! How can I help you today?']),\n",
    "            (r'what is your name?', ['I am a chatbot created by you.']),\n",
    "            (r'i need help', ['sure,how can i assist you?']),\n",
    "            (r'bye|goodbye', ['Goodbye!', 'See you later!', 'Have a great day!']),\n",
    "            (r'(.*)', ['Sorry, I do not understand that.'])  # Default response for unmatched inputs\n",
    "        ]\n",
    "\n",
    "    def respond(self, user_input):\n",
    "        # Iterate over each pattern-response pair\n",
    "        for pattern, responses in self.patterns_responses:\n",
    "            # Check if the user input matches the current pattern (case insensitive)\n",
    "            if re.search(pattern, user_input, re.IGNORECASE):\n",
    "                # Return a random response from the matched pattern's responses\n",
    "                return random.choice(responses)\n",
    "        # Return a default response if no patterns match\n",
    "        return 'Sorry, I do not understand that.'\n",
    "\n",
    "def start_chat():\n",
    "    # Print an initial message from the chatbot\n",
    "    print(\"Chatbot: Hi! How can I assist you today?\")\n",
    "    while True:\n",
    "        # Get user input\n",
    "        user_input = input(\"You: \")\n",
    "        # Get the chatbot's response based on the user input\n",
    "        response = chatbot.respond(user_input)\n",
    "        # Print the chatbot's response\n",
    "        print(\"Chatbot:\", response)\n",
    "        # Break the loop if the user says 'bye' or 'goodbye'\n",
    "        if re.search(r'bye|goodbye', user_input, re.IGNORECASE):\n",
    "            break\n",
    "\n",
    "if __name__ == \"__main__\":\n",
    "    # Create an instance of the SimpleChatbot class\n",
    "    chatbot = SimpleChatbot()\n",
    "    # Start the chat session\n",
    "    start_chat()\n"
   ]
  },
  {
   "cell_type": "code",
   "execution_count": null,
   "metadata": {},
   "outputs": [],
   "source": []
  }
 ],
 "metadata": {
  "kernelspec": {
   "display_name": "Python 3",
   "language": "python",
   "name": "python3"
  },
  "language_info": {
   "codemirror_mode": {
    "name": "ipython",
    "version": 3
   },
   "file_extension": ".py",
   "mimetype": "text/x-python",
   "name": "python",
   "nbconvert_exporter": "python",
   "pygments_lexer": "ipython3",
   "version": "3.12.2"
  }
 },
 "nbformat": 4,
 "nbformat_minor": 2
}
