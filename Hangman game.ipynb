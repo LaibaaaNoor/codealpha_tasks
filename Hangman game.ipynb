{
 "cells": [
  {
   "cell_type": "code",
   "execution_count": 1,
   "metadata": {},
   "outputs": [
    {
     "name": "stdout",
     "output_type": "stream",
     "text": [
      "Welcome to Hangman!\n",
      "\n",
      "Current word:  ____\n",
      "Wrong guess! You have 4 guesses left.\n",
      "\n",
      "Current word:  ____\n",
      "Wrong guess! You have 3 guesses left.\n",
      "\n",
      "Current word:  ____\n",
      "Wrong guess! You have 2 guesses left.\n",
      "\n",
      "Current word:  ____\n",
      "\n",
      "Current word:  _a_a\n",
      "Wrong guess! You have 1 guesses left.\n",
      "\n",
      "Current word:  _a_a\n",
      "Wrong guess! You have 0 guesses left.\n",
      "\n",
      "Game over! The word was: java\n"
     ]
    }
   ],
   "source": [
    "import random  # Import the random module to choose a random word\n",
    "\n",
    "def get_random_word():\n",
    "    \"\"\"\n",
    "    Selects and returns a random word from a predefined list.\n",
    "    \"\"\"\n",
    "    words = ['java', 'alpha', 'swift', 'hangman', 'code', 'game']  # List of possible words\n",
    "    return random.choice(words)  # Randomly select and return a word from the list\n",
    "\n",
    "def display_current_state(word, guesses):\n",
    "    \"\"\"\n",
    "    Displays the current state of the word with guessed letters revealed.\n",
    "    \n",
    "    :param word: The word to guess.\n",
    "    :param guesses: Set of guessed letters.\n",
    "    :return: A string representing the current state of the word.\n",
    "    \"\"\"\n",
    "    # Create a string where each letter is revealed if guessed, or replaced by an underscore\n",
    "    return ''.join([letter if letter in guesses else '_' for letter in word])\n",
    "\n",
    "def hangman():\n",
    "    \"\"\"\n",
    "    Main function to run the Hangman game.\n",
    "    \"\"\"\n",
    "    word = get_random_word()  # Get a random word to guess\n",
    "    guesses = set()  # Create a set to keep track of guessed letters\n",
    "    max_incorrect_guesses = 5  # Maximum number of incorrect guesses allowed\n",
    "    incorrect_guesses = 0  # Counter for incorrect guesses\n",
    "\n",
    "    print(\"Welcome to Hangman!\")  # Print a welcome message\n",
    "\n",
    "    while incorrect_guesses < max_incorrect_guesses:  # Continue until the user runs out of guesses\n",
    "        # Display the current state of the word with guessed letters\n",
    "        print(\"\\nCurrent word: \", display_current_state(word, guesses))\n",
    "        guess = input(\"Guess a letter: \").lower()  # Get user input and convert it to lowercase\n",
    "\n",
    "        if guess in guesses:\n",
    "            # Inform the user if the letter was already guessed\n",
    "            print(\"You already guessed that letter.\")\n",
    "        elif guess in word:\n",
    "            # If the guessed letter is in the word, add it to the set of guesses\n",
    "            guesses.add(guess)\n",
    "            # Check if all letters in the word have been guessed\n",
    "            if all(letter in guesses for letter in word):\n",
    "                print(\"\\nCongratulations! You guessed the word:\", word)\n",
    "                break  # Exit the loop if the word is completely guessed\n",
    "        else:\n",
    "            # If the guessed letter is not in the word, increment the incorrect guesses counter\n",
    "            guesses.add(guess)\n",
    "            incorrect_guesses += 1\n",
    "            # Inform the user of the incorrect guess and remaining attempts\n",
    "            print(f\"Wrong guess! You have {max_incorrect_guesses - incorrect_guesses} guesses left.\")\n",
    "\n",
    "    if incorrect_guesses == max_incorrect_guesses:\n",
    "        # Inform the user if they have run out of guesses\n",
    "        print(\"\\nGame over! The word was:\", word)\n",
    "\n",
    "if __name__ == \"__main__\":\n",
    "    hangman()  # Start the game if the script is run directly\n"
   ]
  },
  {
   "cell_type": "code",
   "execution_count": null,
   "metadata": {},
   "outputs": [],
   "source": []
  },
  {
   "cell_type": "code",
   "execution_count": null,
   "metadata": {},
   "outputs": [],
   "source": []
  }
 ],
 "metadata": {
  "kernelspec": {
   "display_name": "Python 3",
   "language": "python",
   "name": "python3"
  },
  "language_info": {
   "codemirror_mode": {
    "name": "ipython",
    "version": 3
   },
   "file_extension": ".py",
   "mimetype": "text/x-python",
   "name": "python",
   "nbconvert_exporter": "python",
   "pygments_lexer": "ipython3",
   "version": "3.12.2"
  }
 },
 "nbformat": 4,
 "nbformat_minor": 2
}
